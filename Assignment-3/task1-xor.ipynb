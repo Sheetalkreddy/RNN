{
 "cells": [
  {
   "cell_type": "markdown",
   "metadata": {},
   "source": [
    "# Task 1: XOR"
   ]
  },
  {
   "cell_type": "code",
   "execution_count": 11,
   "metadata": {},
   "outputs": [
    {
     "name": "stdout",
     "output_type": "stream",
     "text": [
      "The autoreload extension is already loaded. To reload it, use:\n",
      "  %reload_ext autoreload\n"
     ]
    }
   ],
   "source": [
    "# Import modules\n",
    "from __future__ import print_function\n",
    "import tensorflow as tf\n",
    "import numpy as np\n",
    "from numpy.random import shuffle\n",
    "import time\n",
    "import matplotlib.pyplot as plt\n",
    "\n",
    "# Plot configurations\n",
    "% matplotlib inline\n",
    "\n",
    "# Notebook auto reloads code. (Ref: http://stackoverflow.com/questions/1907993/autoreload-of-modules-in-ipython)\n",
    "% load_ext autoreload\n",
    "% autoreload 2"
   ]
  },
  {
   "cell_type": "markdown",
   "metadata": {},
   "source": [
    "## Task 1, Part 1: Backpropagation through time (BPTT)"
   ]
  },
  {
   "cell_type": "markdown",
   "metadata": {},
   "source": [
    "**Question:** Consider a simple RNN network shown in the following figure, where _wx, wh, b1, w, b2_ are the scalar parameters of the network. The loss function is the **mean squared error (MSE)**. Given input _(x1, x2) = (1, 0)_, ground truth _(g1, g2) = (1, 1), h0 = 0, (wx, wh, b1, w, b2) = (1, 1, 1, 1, 1)_, compute _(dwx, dwh, db1, dw, db2)_, which are the gradients of loss with repect to 5 parameters _(wx, wh, b1, w, b2)_.\n",
    "\n",
    "![bptt](./img/bptt2.jpg)"
   ]
  },
  {
   "attachments": {},
   "cell_type": "markdown",
   "metadata": {},
   "source": [
    "<span style=\"color:red\">TODO:</span>\n",
    "\n",
    "Answer the above question. \n",
    "\n",
    "* **[fill in here: Enter your derivations and the computational process]**\n",
    "* You can use LATEX to edit the equations, and Jupyter notebook can recognize basic LATEX syntax. Alternatively, you can edit equations in some other environment and then paste the screenshot of the equations here.\n",
    "\n",
    "\n"
   ]
  },
  {
   "cell_type": "markdown",
   "metadata": {},
   "source": [
    "![bptt](./img/eqn.png)"
   ]
  },
  {
   "cell_type": "markdown",
   "metadata": {},
   "source": [
    "## Task 1, Part 2: Use tensorflow modules to create XOR network\n",
    "\n",
    "In this part, you need to build and train an XOR network that can learn the XOR function. It is a very simple implementation of RNN and will give you an idea how RNN is built and how to train it."
   ]
  },
  {
   "cell_type": "markdown",
   "metadata": {},
   "source": [
    "### XOR network\n",
    "\n",
    "XOR network can learn the XOR $\\oplus$ function\n",
    "\n",
    "As shown in the figure below, and for instance, if input $(x0, x1, x2)$=(1,0,0), then output $(y1, y2, y3)$=(1,1,1). That is, $y_n = x_0\\oplus x_1 \\oplus ... \\oplus x_{n-1}$\n",
    "\n",
    "![xor_net](./img/xor.png)"
   ]
  },
  {
   "cell_type": "markdown",
   "metadata": {},
   "source": [
    "### Create data set\n",
    "This function provides you the way to generate the data which is required for the training process. You should utilize it when building your training function for the GRU. Please read the source code for more information."
   ]
  },
  {
   "cell_type": "code",
   "execution_count": 12,
   "metadata": {},
   "outputs": [],
   "source": [
    "from ecbm4040.xor.utils import create_dataset"
   ]
  },
  {
   "cell_type": "markdown",
   "metadata": {},
   "source": [
    "### Build a network using a Tensorlow GRUCell\n",
    "This section shows an example how to build a RNN network using an GRU cell. GRU cell is an inbuilt class in tensorflow which implements the real behavior of the GRU neuron. \n",
    "\n",
    "Reference: \n",
    "1. [TensorFlow GRU cell](https://www.tensorflow.org/versions/r1.8/api_docs/python/tf/contrib/rnn/GRUCell)\n",
    "2. [Understanding GRU networks](https://towardsdatascience.com/understanding-gru-networks-2ef37df6c9be)"
   ]
  },
  {
   "cell_type": "code",
   "execution_count": 13,
   "metadata": {},
   "outputs": [],
   "source": [
    "from tensorflow.contrib.rnn import GRUCell"
   ]
  },
  {
   "cell_type": "code",
   "execution_count": 14,
   "metadata": {},
   "outputs": [],
   "source": [
    "tf.reset_default_graph()\n",
    "\n",
    "# Input shape: (num_samples, seq_length, input_dimension)\n",
    "# Output shape: (num_samples, output_ground_truth), and output_ground_truth is 0/1.\n",
    "input_data = tf.placeholder(tf.float32, shape=[None,None,1])\n",
    "output_data = tf.placeholder(tf.int64, shape=[None,None])\n",
    "\n",
    "# define GRU cell\n",
    "num_units = 64\n",
    "cell = GRUCell(num_units)\n",
    "\n",
    "# create GRU network: you can also choose other modules provided by tensorflow, like static_rnn etc.\n",
    "hidden, _ = tf.nn.dynamic_rnn(cell, input_data, dtype=tf.float32)\n",
    "\n",
    "# generate output from the hidden information\n",
    "output_shape = 2\n",
    "out = tf.layers.dense(hidden, output_shape)\n",
    "pred = tf.argmax(out, axis=2)\n",
    "\n",
    "# loss function\n",
    "loss = tf.reduce_mean(tf.nn.sparse_softmax_cross_entropy_with_logits(labels=output_data,logits=out))\n",
    "\n",
    "# optimization\n",
    "optimizer = tf.train.AdamOptimizer(learning_rate=0.1).minimize(loss)\n",
    "\n",
    "# accuracy\n",
    "correct_num = tf.equal(output_data,pred)\n",
    "accuracy = tf.reduce_mean(tf.cast(correct_num,tf.float32))"
   ]
  },
  {
   "cell_type": "markdown",
   "metadata": {},
   "source": [
    "### Training \n",
    "\n",
    "<span style='color:red'>TODO:</span> \n",
    "1. Build your training funciton for RNN; \n",
    "2. Plot the cost during the traning"
   ]
  },
  {
   "cell_type": "code",
   "execution_count": null,
   "metadata": {},
   "outputs": [
    {
     "name": "stdout",
     "output_type": "stream",
     "text": [
      "Epoch: 0, Cost: 0.691582202911377, Accuracy: 62.27999925613403%\n",
      "Epoch: 1, Cost: 1.5386035442352295, Accuracy: 49.8199999332428%\n",
      "Epoch: 2, Cost: 0.7360622882843018, Accuracy: 49.070000648498535%\n",
      "Epoch: 3, Cost: 0.7942901849746704, Accuracy: 49.93999898433685%\n",
      "Epoch: 4, Cost: 0.7291271686553955, Accuracy: 50.564998388290405%\n",
      "Epoch: 5, Cost: 0.7200784087181091, Accuracy: 49.79499876499176%\n",
      "Epoch: 6, Cost: 0.7210493087768555, Accuracy: 49.880000948905945%\n",
      "Epoch: 7, Cost: 0.7147353291511536, Accuracy: 47.74999916553497%\n",
      "Epoch: 8, Cost: 0.7148867249488831, Accuracy: 48.96000027656555%\n",
      "Epoch: 9, Cost: 0.6972497701644897, Accuracy: 48.5150009393692%\n",
      "Epoch: 10, Cost: 0.6899933815002441, Accuracy: 50.09499788284302%\n",
      "Epoch: 11, Cost: 0.6956473588943481, Accuracy: 47.130000591278076%\n",
      "Epoch: 12, Cost: 0.6871349811553955, Accuracy: 51.64499878883362%\n",
      "Epoch: 13, Cost: 0.6845059394836426, Accuracy: 52.24999785423279%\n",
      "Epoch: 14, Cost: 0.6875876188278198, Accuracy: 52.47499942779541%\n",
      "Epoch: 15, Cost: 0.68519127368927, Accuracy: 50.0%\n",
      "Epoch: 16, Cost: 0.6807985305786133, Accuracy: 50.18500089645386%\n",
      "Epoch: 17, Cost: 0.6743433475494385, Accuracy: 49.52499866485596%\n",
      "Epoch: 18, Cost: 0.6688915491104126, Accuracy: 48.84999990463257%\n",
      "Epoch: 19, Cost: 0.6637831926345825, Accuracy: 55.674999952316284%\n",
      "Epoch: 20, Cost: 0.6592406034469604, Accuracy: 58.93999934196472%\n",
      "Epoch: 21, Cost: 0.6551358103752136, Accuracy: 56.71499967575073%\n",
      "Epoch: 22, Cost: 0.6479818224906921, Accuracy: 55.90999722480774%\n",
      "Epoch: 23, Cost: 0.6355111002922058, Accuracy: 61.02499961853027%\n",
      "Epoch: 24, Cost: 0.6196320056915283, Accuracy: 65.0950014591217%\n",
      "Epoch: 25, Cost: 0.6049757599830627, Accuracy: 67.08499789237976%\n",
      "Epoch: 26, Cost: 0.5772374272346497, Accuracy: 73.50999712944031%\n",
      "Epoch: 27, Cost: 0.5356100797653198, Accuracy: 76.84999704360962%\n",
      "Epoch: 28, Cost: 0.486897349357605, Accuracy: 80.11000156402588%\n",
      "Epoch: 29, Cost: 0.41620364785194397, Accuracy: 86.76999807357788%\n",
      "Epoch: 30, Cost: 0.34823858737945557, Accuracy: 93.00500154495239%\n",
      "Epoch: 31, Cost: 0.28758448362350464, Accuracy: 96.04499936103821%\n",
      "Epoch: 32, Cost: 0.218979150056839, Accuracy: 96.80500030517578%\n",
      "Epoch: 33, Cost: 0.1549493670463562, Accuracy: 98.61999750137329%\n",
      "Epoch: 34, Cost: 0.11197783052921295, Accuracy: 99.03500080108643%\n",
      "Epoch: 35, Cost: 0.08630174398422241, Accuracy: 99.77499842643738%\n",
      "Epoch: 36, Cost: 0.06006071716547012, Accuracy: 99.77999925613403%\n",
      "Epoch: 37, Cost: 0.041025809943675995, Accuracy: 99.8799979686737%\n",
      "Epoch: 38, Cost: 0.028339773416519165, Accuracy: 99.95499849319458%\n",
      "Epoch: 39, Cost: 0.02013283409178257, Accuracy: 100.0%\n",
      "Epoch: 40, Cost: 0.012817321345210075, Accuracy: 99.95499849319458%\n",
      "Epoch: 41, Cost: 0.008672918193042278, Accuracy: 99.9750018119812%\n",
      "Epoch: 42, Cost: 0.006500906310975552, Accuracy: 100.0%\n",
      "Epoch: 43, Cost: 0.004304235801100731, Accuracy: 100.0%\n",
      "Epoch: 44, Cost: 0.0031162784434854984, Accuracy: 100.0%\n",
      "Epoch: 45, Cost: 0.0024497450795024633, Accuracy: 100.0%\n",
      "Epoch: 46, Cost: 0.0019869287498295307, Accuracy: 100.0%\n",
      "Epoch: 47, Cost: 0.0015665431274101138, Accuracy: 100.0%\n",
      "Epoch: 48, Cost: 0.0012367228046059608, Accuracy: 100.0%\n",
      "Epoch: 49, Cost: 0.0009899568976834416, Accuracy: 100.0%\n",
      "Epoch: 50, Cost: 0.0008376638288609684, Accuracy: 100.0%\n",
      "Epoch: 51, Cost: 0.000731393345631659, Accuracy: 100.0%\n",
      "Epoch: 52, Cost: 0.0006747737061232328, Accuracy: 100.0%\n",
      "Epoch: 53, Cost: 0.0006109001114964485, Accuracy: 100.0%\n",
      "Epoch: 54, Cost: 0.0005861299578100443, Accuracy: 100.0%\n",
      "Epoch: 55, Cost: 0.0005499309627339244, Accuracy: 100.0%\n",
      "Epoch: 56, Cost: 0.0004867914249189198, Accuracy: 100.0%\n",
      "Epoch: 57, Cost: 0.00043921309406869113, Accuracy: 100.0%\n",
      "Epoch: 58, Cost: 0.0003843843878712505, Accuracy: 100.0%\n",
      "Epoch: 59, Cost: 0.00035175171797163785, Accuracy: 100.0%\n",
      "Epoch: 60, Cost: 0.0003231508599128574, Accuracy: 100.0%\n",
      "Epoch: 61, Cost: 0.0003000483848154545, Accuracy: 100.0%\n",
      "Epoch: 62, Cost: 0.0002827570424415171, Accuracy: 100.0%\n",
      "Epoch: 63, Cost: 0.00026740942848846316, Accuracy: 100.0%\n",
      "Epoch: 64, Cost: 0.00025266007287427783, Accuracy: 100.0%\n",
      "Epoch: 65, Cost: 0.0002405575942248106, Accuracy: 100.0%\n",
      "Epoch: 66, Cost: 0.00022522690414916724, Accuracy: 100.0%\n",
      "Epoch: 67, Cost: 0.0002164871693821624, Accuracy: 100.0%\n",
      "Epoch: 68, Cost: 0.00020943993877153844, Accuracy: 100.0%\n",
      "Epoch: 69, Cost: 0.00019763328600674868, Accuracy: 100.0%\n",
      "Epoch: 70, Cost: 0.00019142332894261926, Accuracy: 100.0%\n",
      "Epoch: 71, Cost: 0.00018453608208801597, Accuracy: 100.0%\n",
      "Epoch: 72, Cost: 0.0001790078094927594, Accuracy: 100.0%\n",
      "Epoch: 73, Cost: 0.00017490518803242594, Accuracy: 100.0%\n",
      "Epoch: 74, Cost: 0.0001681481662672013, Accuracy: 100.0%\n",
      "Epoch: 75, Cost: 0.00016393336409237236, Accuracy: 100.0%\n",
      "Epoch: 76, Cost: 0.00016064335068222135, Accuracy: 100.0%\n",
      "Epoch: 77, Cost: 0.00015510494995396584, Accuracy: 100.0%\n"
     ]
    }
   ],
   "source": [
    "# YOUR TRAINING AND PLOTTING CODE HERE\n",
    "\n",
    "costs = [] \n",
    "epoch = 100\n",
    "with tf.Session() as sess:\n",
    "    sess.run(tf.global_variables_initializer())\n",
    "    for i in range(epoch):\n",
    "            trainx,trainy = create_dataset(2500)\n",
    "            _,cost,acc = sess.run([optimizer,loss,accuracy],feed_dict={input_data: trainx, output_data: trainy})\n",
    "            print(\"Epoch: {}, Cost: {}, Accuracy: {}%\".format(i,cost,acc*100))\n",
    "            costs.append(cost)\n",
    "    \n"
   ]
  },
  {
   "cell_type": "code",
   "execution_count": 38,
   "metadata": {},
   "outputs": [
    {
     "data": {
      "image/png": "[encoded data removed]",
      "text/plain": [
       "<Figure size 432x288 with 1 Axes>"
      ]
     },
     "metadata": {
      "needs_background": "light"
     },
     "output_type": "display_data"
    }
   ],
   "source": [
    "#Plotting\n",
    "x = range(epoch)\n",
    "y = costs\n",
    "plt.plot(x, y, '-')\n",
    "plt.xlabel('Epochs')\n",
    "plt.ylabel('Cost')\n",
    "plt.show()"
   ]
  },
  {
   "cell_type": "markdown",
   "metadata": {
    "collapsed": true
   },
   "source": [
    "## Task 1, Part 3 :  Build your own GRUCell\n",
    "In this part, you need to build your own GRU cell to achieve the GRU functionality. \n",
    "\n",
    "<span style=\"color:red\">TODO:</span> \n",
    "1. Finish class **MyGRUCell** in ecbm4040/xor/rnn.py;\n",
    "2. Write the training function for your RNN;\n",
    "3. Plot the cost during training."
   ]
  },
  {
   "cell_type": "code",
   "execution_count": 5,
   "metadata": {},
   "outputs": [],
   "source": [
    "from ecbm4040.xor.rnn import MyGRUCell"
   ]
  },
  {
   "cell_type": "code",
   "execution_count": 6,
   "metadata": {},
   "outputs": [],
   "source": [
    "# recreate xor netowrk with your own GRU cell\n",
    "tf.reset_default_graph()\n",
    "\n",
    "#Input shape: (num_samples,seq_length,input_dimension)\n",
    "#Output shape: (num_samples, output_ground_truth), and output_ground_truth is 0/1. \n",
    "input_data = tf.placeholder(tf.float32,shape=[None,None,1])\n",
    "output_data = tf.placeholder(tf.int64,shape=[None,None])\n",
    "\n",
    "# recreate xor netowrk with your own GRU cell\n",
    "num_units = 64\n",
    "cell = MyGRUCell(num_units)\n",
    "\n",
    "# create GRU network: you can also choose other modules provided by tensorflow, like static_rnn etc.\n",
    "hidden, _ = tf.nn.dynamic_rnn(cell,input_data,dtype=tf.float32)\n",
    "\n",
    "# generate output from the hidden information\n",
    "output_shape = 2\n",
    "out = tf.layers.dense(hidden, output_shape)\n",
    "pred = tf.argmax(out,axis=2)\n",
    "\n",
    "# loss function\n",
    "loss = tf.reduce_mean(tf.nn.sparse_softmax_cross_entropy_with_logits(labels=output_data,logits=out))\n",
    "# optimization\n",
    "optimizer = tf.train.AdamOptimizer(learning_rate=0.1).minimize(loss)\n",
    "# accuracy\n",
    "correct = tf.equal(output_data,pred)\n",
    "accuracy = tf.reduce_mean(tf.cast(correct,tf.float32))"
   ]
  },
  {
   "cell_type": "markdown",
   "metadata": {},
   "source": [
    "### Training"
   ]
  },
  {
   "cell_type": "code",
   "execution_count": 9,
   "metadata": {},
   "outputs": [
    {
     "name": "stdout",
     "output_type": "stream",
     "text": [
      "Epoch: 0, Cost: 0.8847861289978027, Accuracy: 48.12000095844269%\n",
      "Epoch: 1, Cost: 1.4695017337799072, Accuracy: 49.62500035762787%\n",
      "Epoch: 2, Cost: 1.1225897073745728, Accuracy: 50.11500120162964%\n",
      "Epoch: 3, Cost: 0.8487166166305542, Accuracy: 55.66999912261963%\n",
      "Epoch: 4, Cost: 1.0354562997817993, Accuracy: 49.64500069618225%\n",
      "Epoch: 5, Cost: 0.7261832356452942, Accuracy: 50.84499716758728%\n",
      "Epoch: 6, Cost: 0.8167025446891785, Accuracy: 62.335002422332764%\n",
      "Epoch: 7, Cost: 0.6458055377006531, Accuracy: 65.15499949455261%\n",
      "Epoch: 8, Cost: 0.6787018775939941, Accuracy: 62.55999803543091%\n",
      "Epoch: 9, Cost: 0.6325708031654358, Accuracy: 62.230002880096436%\n",
      "Epoch: 10, Cost: 0.6568783521652222, Accuracy: 62.80999779701233%\n",
      "Epoch: 11, Cost: 0.6025860905647278, Accuracy: 62.0199978351593%\n",
      "Epoch: 12, Cost: 0.6082621812820435, Accuracy: 68.51000189781189%\n",
      "Epoch: 13, Cost: 0.5678311586380005, Accuracy: 71.41500115394592%\n",
      "Epoch: 14, Cost: 0.5761871933937073, Accuracy: 72.9449987411499%\n",
      "Epoch: 15, Cost: 0.55305415391922, Accuracy: 71.78500294685364%\n",
      "Epoch: 16, Cost: 0.567544162273407, Accuracy: 69.62500214576721%\n",
      "Epoch: 17, Cost: 0.5203457474708557, Accuracy: 79.04000282287598%\n",
      "Epoch: 18, Cost: 0.5244252681732178, Accuracy: 76.02999806404114%\n",
      "Epoch: 19, Cost: 0.5004414916038513, Accuracy: 78.25499773025513%\n",
      "Epoch: 20, Cost: 0.48454004526138306, Accuracy: 76.02999806404114%\n",
      "Epoch: 21, Cost: 0.4727798402309418, Accuracy: 76.44000053405762%\n",
      "Epoch: 22, Cost: 0.45885932445526123, Accuracy: 77.22499966621399%\n",
      "Epoch: 23, Cost: 0.4554765522480011, Accuracy: 79.90999817848206%\n",
      "Epoch: 24, Cost: 0.4318837821483612, Accuracy: 80.97500205039978%\n",
      "Epoch: 25, Cost: 0.4254077076911926, Accuracy: 80.61500191688538%\n",
      "Epoch: 26, Cost: 0.4080789387226105, Accuracy: 80.77999949455261%\n",
      "Epoch: 27, Cost: 0.3958492577075958, Accuracy: 80.07500171661377%\n",
      "Epoch: 28, Cost: 0.3742116093635559, Accuracy: 82.55000114440918%\n",
      "Epoch: 29, Cost: 0.34968507289886475, Accuracy: 85.63500046730042%\n",
      "Epoch: 30, Cost: 0.3441375195980072, Accuracy: 84.76499915122986%\n",
      "Epoch: 31, Cost: 0.3357051610946655, Accuracy: 85.74000000953674%\n",
      "Epoch: 32, Cost: 0.32129189372062683, Accuracy: 85.67000031471252%\n",
      "Epoch: 33, Cost: 0.31368550658226013, Accuracy: 86.3349974155426%\n",
      "Epoch: 34, Cost: 0.2919435203075409, Accuracy: 86.78500056266785%\n",
      "Epoch: 35, Cost: 0.2811599671840668, Accuracy: 87.73499727249146%\n",
      "Epoch: 36, Cost: 0.25126543641090393, Accuracy: 89.98500108718872%\n",
      "Epoch: 37, Cost: 0.28720220923423767, Accuracy: 88.19500207901001%\n",
      "Epoch: 38, Cost: 0.3727613687515259, Accuracy: 80.97000122070312%\n",
      "Epoch: 39, Cost: 0.49442827701568604, Accuracy: 74.23999905586243%\n",
      "Epoch: 40, Cost: 0.46344324946403503, Accuracy: 75.37500262260437%\n",
      "Epoch: 41, Cost: 0.43440166115760803, Accuracy: 73.83000254631042%\n",
      "Epoch: 42, Cost: 0.36543259024620056, Accuracy: 84.90999937057495%\n",
      "Epoch: 43, Cost: 0.33916839957237244, Accuracy: 85.8049988746643%\n",
      "Epoch: 44, Cost: 0.387948215007782, Accuracy: 80.035001039505%\n",
      "Epoch: 45, Cost: 0.3007214367389679, Accuracy: 87.87000179290771%\n",
      "Epoch: 46, Cost: 0.283648818731308, Accuracy: 86.90999746322632%\n",
      "Epoch: 47, Cost: 0.24909624457359314, Accuracy: 90.45000076293945%\n",
      "Epoch: 48, Cost: 0.23136278986930847, Accuracy: 93.46500039100647%\n",
      "Epoch: 49, Cost: 0.2566138505935669, Accuracy: 91.35500192642212%\n",
      "Epoch: 50, Cost: 0.2271599918603897, Accuracy: 91.54999852180481%\n",
      "Epoch: 51, Cost: 0.2633703052997589, Accuracy: 88.40000033378601%\n",
      "Epoch: 52, Cost: 0.23935464024543762, Accuracy: 90.51499962806702%\n",
      "Epoch: 53, Cost: 0.2368616759777069, Accuracy: 92.18000173568726%\n",
      "Epoch: 54, Cost: 0.20460645854473114, Accuracy: 94.83500123023987%\n",
      "Epoch: 55, Cost: 0.17667187750339508, Accuracy: 95.99000215530396%\n",
      "Epoch: 56, Cost: 0.18326769769191742, Accuracy: 94.17499899864197%\n",
      "Epoch: 57, Cost: 0.19090799987316132, Accuracy: 94.34499740600586%\n",
      "Epoch: 58, Cost: 0.13998378813266754, Accuracy: 97.50000238418579%\n",
      "Epoch: 59, Cost: 0.1246098130941391, Accuracy: 97.8950023651123%\n",
      "Epoch: 60, Cost: 0.06684078276157379, Accuracy: 99.80000257492065%\n",
      "Epoch: 61, Cost: 0.09482784569263458, Accuracy: 98.25000166893005%\n",
      "Epoch: 62, Cost: 0.07186031341552734, Accuracy: 100.0%\n",
      "Epoch: 63, Cost: 0.0603628046810627, Accuracy: 100.0%\n",
      "Epoch: 64, Cost: 0.04863627627491951, Accuracy: 100.0%\n",
      "Epoch: 65, Cost: 0.051444899290800095, Accuracy: 100.0%\n",
      "Epoch: 66, Cost: 0.06519380211830139, Accuracy: 99.23999905586243%\n",
      "Epoch: 67, Cost: 0.0674528181552887, Accuracy: 99.73499774932861%\n",
      "Epoch: 68, Cost: 0.11762197315692902, Accuracy: 95.169997215271%\n",
      "Epoch: 69, Cost: 0.05746997520327568, Accuracy: 100.0%\n",
      "Epoch: 70, Cost: 0.36567968130111694, Accuracy: 84.68000292778015%\n",
      "Epoch: 71, Cost: 0.0823947936296463, Accuracy: 99.59499835968018%\n",
      "Epoch: 72, Cost: 0.03230343014001846, Accuracy: 100.0%\n",
      "Epoch: 73, Cost: 0.08820538222789764, Accuracy: 97.50000238418579%\n",
      "Epoch: 74, Cost: 0.1026938259601593, Accuracy: 97.10000157356262%\n",
      "Epoch: 75, Cost: 0.023307790979743004, Accuracy: 100.0%\n",
      "Epoch: 76, Cost: 0.02556977979838848, Accuracy: 100.0%\n",
      "Epoch: 77, Cost: 0.039504799991846085, Accuracy: 100.0%\n",
      "Epoch: 78, Cost: 0.0404704287648201, Accuracy: 99.69000220298767%\n",
      "Epoch: 79, Cost: 0.024997906759381294, Accuracy: 99.97000098228455%\n",
      "Epoch: 80, Cost: 0.03144321218132973, Accuracy: 99.60500001907349%\n",
      "Epoch: 81, Cost: 0.020451921969652176, Accuracy: 99.88499879837036%\n",
      "Epoch: 82, Cost: 0.01350662112236023, Accuracy: 99.95999932289124%\n",
      "Epoch: 83, Cost: 0.012110351584851742, Accuracy: 100.0%\n",
      "Epoch: 84, Cost: 0.012239567935466766, Accuracy: 100.0%\n",
      "Epoch: 85, Cost: 0.012411756440997124, Accuracy: 100.0%\n",
      "Epoch: 86, Cost: 0.012853581458330154, Accuracy: 100.0%\n",
      "Epoch: 87, Cost: 0.012393173761665821, Accuracy: 100.0%\n",
      "Epoch: 88, Cost: 0.011912141926586628, Accuracy: 100.0%\n",
      "Epoch: 89, Cost: 0.011305431835353374, Accuracy: 100.0%\n",
      "Epoch: 90, Cost: 0.010490519925951958, Accuracy: 100.0%\n",
      "Epoch: 91, Cost: 0.009585795924067497, Accuracy: 100.0%\n",
      "Epoch: 92, Cost: 0.009411538951098919, Accuracy: 100.0%\n",
      "Epoch: 93, Cost: 0.009314535185694695, Accuracy: 100.0%\n",
      "Epoch: 94, Cost: 0.008807653561234474, Accuracy: 100.0%\n",
      "Epoch: 95, Cost: 0.008941109292209148, Accuracy: 100.0%\n",
      "Epoch: 96, Cost: 0.00894062127918005, Accuracy: 100.0%\n",
      "Epoch: 97, Cost: 0.008521771989762783, Accuracy: 100.0%\n",
      "Epoch: 98, Cost: 0.008698279969394207, Accuracy: 100.0%\n",
      "Epoch: 99, Cost: 0.008652730844914913, Accuracy: 100.0%\n"
     ]
    }
   ],
   "source": [
    "# YOUR TRAINING AND PLOTTING CODE HERE\n",
    "costs2 = [] \n",
    "epoch = 100\n",
    "with tf.Session() as sess:\n",
    "    sess.run(tf.global_variables_initializer())\n",
    "    for i in range(epoch):\n",
    "            trainx,trainy = create_dataset(2500)\n",
    "            _,cost,acc = sess.run([optimizer,loss,accuracy],feed_dict={input_data: trainx, output_data: trainy})\n",
    "            print(\"Epoch: {}, Cost: {}, Accuracy: {}%\".format(i,cost,acc*100))\n",
    "            costs2.append(cost)\n",
    "    \n",
    "    "
   ]
  },
  {
   "cell_type": "code",
   "execution_count": 10,
   "metadata": {},
   "outputs": [
    {
     "data": {
      "image/png": "[encoded data removed]",
      "text/plain": [
       "<Figure size 432x288 with 1 Axes>"
      ]
     },
     "metadata": {
      "needs_background": "light"
     },
     "output_type": "display_data"
    }
   ],
   "source": [
    "x = range(epoch)\n",
    "y = costs2\n",
    "plt.plot(x, y, '-')\n",
    "plt.xlabel('Epochs')\n",
    "plt.ylabel('Cost')\n",
    "plt.show()"
   ]
  },
  {
   "cell_type": "code",
   "execution_count": null,
   "metadata": {},
   "outputs": [],
   "source": []
  },
  {
   "cell_type": "code",
   "execution_count": null,
   "metadata": {},
   "outputs": [],
   "source": []
  },
  {
   "cell_type": "code",
   "execution_count": null,
   "metadata": {},
   "outputs": [],
   "source": []
  }
 ],
 "metadata": {
  "kernelspec": {
   "display_name": "Python 3",
   "language": "python",
   "name": "python3"
  },
  "language_info": {
   "codemirror_mode": {
    "name": "ipython",
    "version": 3
   },
   "file_extension": ".py",
   "mimetype": "text/x-python",
   "name": "python",
   "nbconvert_exporter": "python",
   "pygments_lexer": "ipython3",
   "version": "3.6.5"
  }
 },
 "nbformat": 4,
 "nbformat_minor": 2
}
